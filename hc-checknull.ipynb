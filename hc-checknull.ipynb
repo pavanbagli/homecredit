{
 "cells": [
  {
   "cell_type": "markdown",
   "id": "6133c021",
   "metadata": {
    "papermill": {
     "duration": 0.004173,
     "end_time": "2024-04-29T11:32:46.644066",
     "exception": false,
     "start_time": "2024-04-29T11:32:46.639893",
     "status": "completed"
    },
    "tags": []
   },
   "source": [
    "# Chcek Nulls\n",
    "This program checks percentage of nulls in each column in each table for a given input bigquery dataset\n",
    "\n",
    "Reference:\n",
    "https://dabblingwithdata.amedcalf.com/2021/05/17/a-quick-way-to-count-the-number-of-null-values-in-each-field-of-a-bigquery-table/"
   ]
  },
  {
   "cell_type": "code",
   "execution_count": 1,
   "id": "d1bf9d0f",
   "metadata": {
    "_cell_guid": "b1076dfc-b9ad-4769-8c92-a6c4dae69d19",
    "_uuid": "8f2839f25d086af736a60e9eeb907d3b93b6e0e5",
    "execution": {
     "iopub.execute_input": "2024-04-29T11:32:46.654258Z",
     "iopub.status.busy": "2024-04-29T11:32:46.653482Z",
     "iopub.status.idle": "2024-04-29T11:33:19.029574Z",
     "shell.execute_reply": "2024-04-29T11:33:19.027930Z"
    },
    "papermill": {
     "duration": 32.384889,
     "end_time": "2024-04-29T11:33:19.032638",
     "exception": false,
     "start_time": "2024-04-29T11:32:46.647749",
     "status": "completed"
    },
    "tags": []
   },
   "outputs": [
    {
     "name": "stdout",
     "output_type": "stream",
     "text": [
      "Requirement already satisfied: google-cloud-bigquery in /opt/conda/lib/python3.10/site-packages (2.34.4)\r\n",
      "Collecting google-cloud-bigquery\r\n",
      "  Downloading google_cloud_bigquery-3.21.0-py2.py3-none-any.whl.metadata (8.9 kB)\r\n",
      "Requirement already satisfied: google-api-core!=2.0.*,!=2.1.*,!=2.10.*,!=2.2.*,!=2.3.*,!=2.4.*,!=2.5.*,!=2.6.*,!=2.7.*,!=2.8.*,!=2.9.*,<3.0.0dev,>=1.34.1 in /opt/conda/lib/python3.10/site-packages (from google-api-core[grpc]!=2.0.*,!=2.1.*,!=2.10.*,!=2.2.*,!=2.3.*,!=2.4.*,!=2.5.*,!=2.6.*,!=2.7.*,!=2.8.*,!=2.9.*,<3.0.0dev,>=1.34.1->google-cloud-bigquery) (2.11.1)\r\n",
      "Requirement already satisfied: google-auth<3.0.0dev,>=2.14.1 in /opt/conda/lib/python3.10/site-packages (from google-cloud-bigquery) (2.26.1)\r\n",
      "Requirement already satisfied: google-cloud-core<3.0.0dev,>=1.6.0 in /opt/conda/lib/python3.10/site-packages (from google-cloud-bigquery) (2.4.1)\r\n",
      "Requirement already satisfied: google-resumable-media<3.0dev,>=0.6.0 in /opt/conda/lib/python3.10/site-packages (from google-cloud-bigquery) (2.7.0)\r\n",
      "Requirement already satisfied: packaging>=20.0.0 in /opt/conda/lib/python3.10/site-packages (from google-cloud-bigquery) (21.3)\r\n",
      "Requirement already satisfied: python-dateutil<3.0dev,>=2.7.2 in /opt/conda/lib/python3.10/site-packages (from google-cloud-bigquery) (2.9.0.post0)\r\n",
      "Requirement already satisfied: requests<3.0.0dev,>=2.21.0 in /opt/conda/lib/python3.10/site-packages (from google-cloud-bigquery) (2.31.0)\r\n",
      "Requirement already satisfied: googleapis-common-protos<2.0.dev0,>=1.56.2 in /opt/conda/lib/python3.10/site-packages (from google-api-core!=2.0.*,!=2.1.*,!=2.10.*,!=2.2.*,!=2.3.*,!=2.4.*,!=2.5.*,!=2.6.*,!=2.7.*,!=2.8.*,!=2.9.*,<3.0.0dev,>=1.34.1->google-api-core[grpc]!=2.0.*,!=2.1.*,!=2.10.*,!=2.2.*,!=2.3.*,!=2.4.*,!=2.5.*,!=2.6.*,!=2.7.*,!=2.8.*,!=2.9.*,<3.0.0dev,>=1.34.1->google-cloud-bigquery) (1.62.0)\r\n",
      "Requirement already satisfied: protobuf!=3.20.0,!=3.20.1,!=4.21.0,!=4.21.1,!=4.21.2,!=4.21.3,!=4.21.4,!=4.21.5,<5.0.0.dev0,>=3.19.5 in /opt/conda/lib/python3.10/site-packages (from google-api-core!=2.0.*,!=2.1.*,!=2.10.*,!=2.2.*,!=2.3.*,!=2.4.*,!=2.5.*,!=2.6.*,!=2.7.*,!=2.8.*,!=2.9.*,<3.0.0dev,>=1.34.1->google-api-core[grpc]!=2.0.*,!=2.1.*,!=2.10.*,!=2.2.*,!=2.3.*,!=2.4.*,!=2.5.*,!=2.6.*,!=2.7.*,!=2.8.*,!=2.9.*,<3.0.0dev,>=1.34.1->google-cloud-bigquery) (3.20.3)\r\n",
      "Requirement already satisfied: grpcio<2.0dev,>=1.33.2 in /opt/conda/lib/python3.10/site-packages (from google-api-core[grpc]!=2.0.*,!=2.1.*,!=2.10.*,!=2.2.*,!=2.3.*,!=2.4.*,!=2.5.*,!=2.6.*,!=2.7.*,!=2.8.*,!=2.9.*,<3.0.0dev,>=1.34.1->google-cloud-bigquery) (1.60.0)\r\n",
      "Requirement already satisfied: grpcio-status<2.0.dev0,>=1.33.2 in /opt/conda/lib/python3.10/site-packages (from google-api-core[grpc]!=2.0.*,!=2.1.*,!=2.10.*,!=2.2.*,!=2.3.*,!=2.4.*,!=2.5.*,!=2.6.*,!=2.7.*,!=2.8.*,!=2.9.*,<3.0.0dev,>=1.34.1->google-cloud-bigquery) (1.48.1)\r\n",
      "Requirement already satisfied: cachetools<6.0,>=2.0.0 in /opt/conda/lib/python3.10/site-packages (from google-auth<3.0.0dev,>=2.14.1->google-cloud-bigquery) (4.2.4)\r\n",
      "Requirement already satisfied: pyasn1-modules>=0.2.1 in /opt/conda/lib/python3.10/site-packages (from google-auth<3.0.0dev,>=2.14.1->google-cloud-bigquery) (0.3.0)\r\n",
      "Requirement already satisfied: rsa<5,>=3.1.4 in /opt/conda/lib/python3.10/site-packages (from google-auth<3.0.0dev,>=2.14.1->google-cloud-bigquery) (4.9)\r\n",
      "Requirement already satisfied: google-crc32c<2.0dev,>=1.0 in /opt/conda/lib/python3.10/site-packages (from google-resumable-media<3.0dev,>=0.6.0->google-cloud-bigquery) (1.5.0)\r\n",
      "Requirement already satisfied: pyparsing!=3.0.5,>=2.0.2 in /opt/conda/lib/python3.10/site-packages (from packaging>=20.0.0->google-cloud-bigquery) (3.1.1)\r\n",
      "Requirement already satisfied: six>=1.5 in /opt/conda/lib/python3.10/site-packages (from python-dateutil<3.0dev,>=2.7.2->google-cloud-bigquery) (1.16.0)\r\n",
      "Requirement already satisfied: charset-normalizer<4,>=2 in /opt/conda/lib/python3.10/site-packages (from requests<3.0.0dev,>=2.21.0->google-cloud-bigquery) (3.3.2)\r\n",
      "Requirement already satisfied: idna<4,>=2.5 in /opt/conda/lib/python3.10/site-packages (from requests<3.0.0dev,>=2.21.0->google-cloud-bigquery) (3.6)\r\n",
      "Requirement already satisfied: urllib3<3,>=1.21.1 in /opt/conda/lib/python3.10/site-packages (from requests<3.0.0dev,>=2.21.0->google-cloud-bigquery) (1.26.18)\r\n",
      "Requirement already satisfied: certifi>=2017.4.17 in /opt/conda/lib/python3.10/site-packages (from requests<3.0.0dev,>=2.21.0->google-cloud-bigquery) (2024.2.2)\r\n",
      "Requirement already satisfied: pyasn1<0.6.0,>=0.4.6 in /opt/conda/lib/python3.10/site-packages (from pyasn1-modules>=0.2.1->google-auth<3.0.0dev,>=2.14.1->google-cloud-bigquery) (0.5.1)\r\n",
      "Downloading google_cloud_bigquery-3.21.0-py2.py3-none-any.whl (235 kB)\r\n",
      "\u001b[2K   \u001b[90m━━━━━━━━━━━━━━━━━━━━━━━━━━━━━━━━━━━━━━━━\u001b[0m \u001b[32m235.5/235.5 kB\u001b[0m \u001b[31m4.0 MB/s\u001b[0m eta \u001b[36m0:00:00\u001b[0m\r\n",
      "\u001b[?25hInstalling collected packages: google-cloud-bigquery\r\n",
      "  Attempting uninstall: google-cloud-bigquery\r\n",
      "    Found existing installation: google-cloud-bigquery 2.34.4\r\n",
      "    Uninstalling google-cloud-bigquery-2.34.4:\r\n",
      "      Successfully uninstalled google-cloud-bigquery-2.34.4\r\n",
      "\u001b[31mERROR: pip's dependency resolver does not currently take into account all the packages that are installed. This behaviour is the source of the following dependency conflicts.\r\n",
      "beatrix-jupyterlab 2023.128.151533 requires jupyterlab~=3.6.0, but you have jupyterlab 4.1.6 which is incompatible.\r\n",
      "google-cloud-aiplatform 0.6.0a1 requires google-api-core[grpc]<2.0.0dev,>=1.22.2, but you have google-api-core 2.11.1 which is incompatible.\r\n",
      "google-cloud-aiplatform 0.6.0a1 requires google-cloud-bigquery<3.0.0dev,>=1.15.0, but you have google-cloud-bigquery 3.21.0 which is incompatible.\u001b[0m\u001b[31m\r\n",
      "\u001b[0mSuccessfully installed google-cloud-bigquery-3.21.0\r\n",
      "Note: you may need to restart the kernel to use updated packages.\n"
     ]
    }
   ],
   "source": [
    "pip install --upgrade google-cloud-bigquery"
   ]
  },
  {
   "cell_type": "code",
   "execution_count": 2,
   "id": "e037baec",
   "metadata": {
    "execution": {
     "iopub.execute_input": "2024-04-29T11:33:19.045643Z",
     "iopub.status.busy": "2024-04-29T11:33:19.044554Z",
     "iopub.status.idle": "2024-04-29T11:33:24.354932Z",
     "shell.execute_reply": "2024-04-29T11:33:24.353529Z"
    },
    "papermill": {
     "duration": 5.320253,
     "end_time": "2024-04-29T11:33:24.358009",
     "exception": false,
     "start_time": "2024-04-29T11:33:19.037756",
     "status": "completed"
    },
    "tags": []
   },
   "outputs": [],
   "source": [
    "import numpy as np\n",
    "import pandas as pd\n",
    "import csv\n",
    "import os\n",
    "from collections import defaultdict\n",
    "from google.cloud import bigquery"
   ]
  },
  {
   "cell_type": "code",
   "execution_count": 3,
   "id": "32d4615d",
   "metadata": {
    "execution": {
     "iopub.execute_input": "2024-04-29T11:33:24.369836Z",
     "iopub.status.busy": "2024-04-29T11:33:24.369105Z",
     "iopub.status.idle": "2024-04-29T11:33:24.374663Z",
     "shell.execute_reply": "2024-04-29T11:33:24.373806Z"
    },
    "papermill": {
     "duration": 0.013795,
     "end_time": "2024-04-29T11:33:24.376703",
     "exception": false,
     "start_time": "2024-04-29T11:33:24.362908",
     "status": "completed"
    },
    "tags": []
   },
   "outputs": [],
   "source": [
    "gc_project_id      = 'kagglehomecredit'\n",
    "bq_dataset_source  = 'homecredit_stage_1'\n",
    "outputfilepath     = \"/kaggle/working/null_counts.csv\"\n",
    "header_row         = ['table_name', 'column_name', 'column_datatype', 'row_count', 'null_count', 'null_percent']"
   ]
  },
  {
   "cell_type": "code",
   "execution_count": 4,
   "id": "53d05c5d",
   "metadata": {
    "execution": {
     "iopub.execute_input": "2024-04-29T11:33:24.389015Z",
     "iopub.status.busy": "2024-04-29T11:33:24.387912Z",
     "iopub.status.idle": "2024-04-29T11:33:24.401548Z",
     "shell.execute_reply": "2024-04-29T11:33:24.400353Z"
    },
    "papermill": {
     "duration": 0.022436,
     "end_time": "2024-04-29T11:33:24.404024",
     "exception": false,
     "start_time": "2024-04-29T11:33:24.381588",
     "status": "completed"
    },
    "tags": []
   },
   "outputs": [],
   "source": [
    "def create_bq_client(gc_project_id):\n",
    "    \n",
    "    bq_client = bigquery.Client(project=gc_project_id)\n",
    "    \n",
    "    return bq_client\n",
    "\n",
    "\n",
    "def get_table_count(gc_project_id, bq_dataset):\n",
    "    \n",
    "    table_and_count = defaultdict(list)\n",
    "    \n",
    "    sql_query = f\"\"\"SELECT * FROM `{gc_project_id}.{bq_dataset_source}.__TABLES__`; \"\"\"\n",
    "    results   = bq_client.query_and_wait(sql_query)\n",
    "        \n",
    "    for result in results:\n",
    "        table_and_count[result[\"table_id\"]].append(result[\"row_count\"])\n",
    "    \n",
    "    return table_and_count\n",
    "\n",
    "\n",
    "def get_table_column(gc_project_id, bq_dataset):\n",
    "    \n",
    "    table_and_column = defaultdict(list)\n",
    "    \n",
    "    sql_query = f\"\"\"SELECT * FROM `{gc_project_id}.{bq_dataset_source}.INFORMATION_SCHEMA.COLUMNS`; \"\"\"\n",
    "    results   = bq_client.query_and_wait(sql_query)\n",
    "    \n",
    "    for result in results:\n",
    "        table_and_column[result[\"table_name\"]].append((result[\"column_name\"], result[\"data_type\"]))\n",
    "    \n",
    "    return table_and_column\n",
    "\n",
    "\n",
    "def get_null_count(gc_project_id, bq_dataset, table_name):\n",
    "\n",
    "    tabel_column_null_count = []\n",
    "    sql_query=f\"\"\"  \n",
    "                    SELECT column_name, COUNT(1) AS nulls_count\n",
    "                    FROM {gc_project_id}.{bq_dataset}.{table_name},\n",
    "                    UNNEST(REGEXP_EXTRACT_ALL(TO_JSON_STRING({table_name}), r'\"(\\w+)\":null')) column_name\n",
    "                    GROUP BY column_name\n",
    "                    ORDER BY nulls_count DESC \n",
    "               \"\"\" \n",
    "    results   = bq_client.query_and_wait(sql_query)\n",
    "    \n",
    "    for result in results:\n",
    "        tabel_column_null_count.append((result[\"column_name\"], result[\"nulls_count\"]))\n",
    "    \n",
    "    return tabel_column_null_count\n",
    "\n",
    "\n",
    "def map_data(table_column, table_count, table_column_null_count):\n",
    "    \n",
    "    map_info_list = []\n",
    "    \n",
    "    for table_name, row_count in table_count.items():\n",
    "        column_list = table_column[table_name]\n",
    "        column_null_count = dict(table_column_null_count[table_name])\n",
    "\n",
    "        for column in column_list:\n",
    "            column_null_percent = round(column_null_count.get(column[0],0) / row_count[0] * 100, 2) \n",
    "            map_info_list.append([table_name, column[0], column[1], row_count[0], column_null_count.get(column[0],0), column_null_percent])\n",
    "            \n",
    "    return map_info_list\n",
    "\n",
    "\n",
    "def write2csv(output_list):\n",
    "    \n",
    "    with open(outputfilepath, 'w') as f:\n",
    "        write = csv.writer(f)\n",
    "        write.writerow(header_row)\n",
    "        write.writerows(output_list)\n",
    "    \n",
    "    return"
   ]
  },
  {
   "cell_type": "code",
   "execution_count": 5,
   "id": "db4cda73",
   "metadata": {
    "execution": {
     "iopub.execute_input": "2024-04-29T11:33:24.415348Z",
     "iopub.status.busy": "2024-04-29T11:33:24.414880Z",
     "iopub.status.idle": "2024-04-29T11:33:24.420403Z",
     "shell.execute_reply": "2024-04-29T11:33:24.419409Z"
    },
    "papermill": {
     "duration": 0.013732,
     "end_time": "2024-04-29T11:33:24.422527",
     "exception": false,
     "start_time": "2024-04-29T11:33:24.408795",
     "status": "completed"
    },
    "tags": []
   },
   "outputs": [],
   "source": [
    "bq_client = create_bq_client(gc_project_id)"
   ]
  },
  {
   "cell_type": "code",
   "execution_count": 6,
   "id": "10010cdb",
   "metadata": {
    "execution": {
     "iopub.execute_input": "2024-04-29T11:33:24.434105Z",
     "iopub.status.busy": "2024-04-29T11:33:24.433643Z",
     "iopub.status.idle": "2024-04-29T11:33:26.193076Z",
     "shell.execute_reply": "2024-04-29T11:33:26.191485Z"
    },
    "papermill": {
     "duration": 1.769243,
     "end_time": "2024-04-29T11:33:26.196482",
     "exception": false,
     "start_time": "2024-04-29T11:33:24.427239",
     "status": "completed"
    },
    "tags": []
   },
   "outputs": [],
   "source": [
    "table_column = get_table_column(gc_project_id,bq_dataset_source)"
   ]
  },
  {
   "cell_type": "code",
   "execution_count": 7,
   "id": "1f62258c",
   "metadata": {
    "execution": {
     "iopub.execute_input": "2024-04-29T11:33:26.208803Z",
     "iopub.status.busy": "2024-04-29T11:33:26.208292Z",
     "iopub.status.idle": "2024-04-29T11:33:27.200872Z",
     "shell.execute_reply": "2024-04-29T11:33:27.199414Z"
    },
    "papermill": {
     "duration": 1.002429,
     "end_time": "2024-04-29T11:33:27.204072",
     "exception": false,
     "start_time": "2024-04-29T11:33:26.201643",
     "status": "completed"
    },
    "tags": []
   },
   "outputs": [],
   "source": [
    "table_count = get_table_count(gc_project_id,bq_dataset_source)"
   ]
  },
  {
   "cell_type": "code",
   "execution_count": 8,
   "id": "0d0291db",
   "metadata": {
    "execution": {
     "iopub.execute_input": "2024-04-29T11:33:27.217284Z",
     "iopub.status.busy": "2024-04-29T11:33:27.215792Z",
     "iopub.status.idle": "2024-04-29T11:34:34.261481Z",
     "shell.execute_reply": "2024-04-29T11:34:34.259905Z"
    },
    "papermill": {
     "duration": 67.055547,
     "end_time": "2024-04-29T11:34:34.264785",
     "exception": false,
     "start_time": "2024-04-29T11:33:27.209238",
     "status": "completed"
    },
    "tags": []
   },
   "outputs": [],
   "source": [
    "table_column_null_count = defaultdict(list)\n",
    "\n",
    "for table_name, count in table_count.items():\n",
    "    table_column_null_count[table_name] = get_null_count(gc_project_id, bq_dataset_source, table_name)"
   ]
  },
  {
   "cell_type": "code",
   "execution_count": 9,
   "id": "9fce1da7",
   "metadata": {
    "execution": {
     "iopub.execute_input": "2024-04-29T11:34:34.277500Z",
     "iopub.status.busy": "2024-04-29T11:34:34.277042Z",
     "iopub.status.idle": "2024-04-29T11:34:34.285773Z",
     "shell.execute_reply": "2024-04-29T11:34:34.284716Z"
    },
    "papermill": {
     "duration": 0.018276,
     "end_time": "2024-04-29T11:34:34.288439",
     "exception": false,
     "start_time": "2024-04-29T11:34:34.270163",
     "status": "completed"
    },
    "tags": []
   },
   "outputs": [],
   "source": [
    "null_count_list = map_data(table_column, table_count, table_column_null_count)\n",
    "write2csv(null_count_list)"
   ]
  }
 ],
 "metadata": {
  "kaggle": {
   "accelerator": "none",
   "dataSources": [],
   "dockerImageVersionId": 30698,
   "isGpuEnabled": false,
   "isInternetEnabled": true,
   "language": "python",
   "sourceType": "notebook"
  },
  "kernelspec": {
   "display_name": "Python 3",
   "language": "python",
   "name": "python3"
  },
  "language_info": {
   "codemirror_mode": {
    "name": "ipython",
    "version": 3
   },
   "file_extension": ".py",
   "mimetype": "text/x-python",
   "name": "python",
   "nbconvert_exporter": "python",
   "pygments_lexer": "ipython3",
   "version": "3.10.13"
  },
  "papermill": {
   "default_parameters": {},
   "duration": 111.983209,
   "end_time": "2024-04-29T11:34:35.521728",
   "environment_variables": {},
   "exception": null,
   "input_path": "__notebook__.ipynb",
   "output_path": "__notebook__.ipynb",
   "parameters": {},
   "start_time": "2024-04-29T11:32:43.538519",
   "version": "2.5.0"
  }
 },
 "nbformat": 4,
 "nbformat_minor": 5
}
